{
 "cells": [
  {
   "cell_type": "code",
   "execution_count": 43,
   "id": "3f21737a",
   "metadata": {},
   "outputs": [
    {
     "name": "stdout",
     "output_type": "stream",
     "text": [
      "1\n",
      "3\n",
      "4\n"
     ]
    },
    {
     "name": "stderr",
     "output_type": "stream",
     "text": [
      "C:\\Users\\user\\AppData\\Local\\Temp\\ipykernel_9568\\3540902315.py:8: DtypeWarning: Columns (2,12) have mixed types. Specify dtype option on import or set low_memory=False.\n",
      "  df_real = pd.read_csv('C:/Users/user/Desktop/project/metrosafe/model/train/output날짜합치기/날짜합친'+str(file_number)+'호선.csv',encoding='euc-kr')     # 실데이터\n"
     ]
    },
    {
     "name": "stdout",
     "output_type": "stream",
     "text": [
      "5\n",
      "6\n"
     ]
    }
   ],
   "source": [
    "import pandas as pd\n",
    "import numpy as np\n",
    "import ast\n",
    "number_list=[1,3,4,5,6]\n",
    "for file_number in number_list:\n",
    "    # 1. 데이터 읽기 (csv 파일 경로로 바꿔주세요)\n",
    "    df_pred = pd.read_csv('./data/result/'+str(file_number)+'호선_혼잡도_전체예측결과.csv',encoding='euc-kr')      # 예측데이터\n",
    "    df_real = pd.read_csv('C:/Users/user/Desktop/project/metrosafe/model/train/output날짜합치기/날짜합친'+str(file_number)+'호선.csv',encoding='euc-kr')     # 실데이터\n",
    "    # 2. 키 기준 Inner join (일치하는 행만 남기기)\n",
    "    on_cols = ['호선','역명','요일','시간','분','상하행']\n",
    "    df_merge = pd.merge(\n",
    "        df_pred, df_real,\n",
    "        on=on_cols,\n",
    "        suffixes=('_예측','_실제')\n",
    "    )\n",
    "\n",
    "\n",
    "    # 3. 혼잡도 리스트 파싱 및 로스율 계산\n",
    "    def relative_loss(row):\n",
    "        pred = np.array(ast.literal_eval(row['congestionCar_예측']))\n",
    "        real = np.array(ast.literal_eval(row['congestionCar_실제']))\n",
    "\n",
    "        # 분모 0 방지\n",
    "        real_mod = np.where(real == 0, 1, real)\n",
    "        loss = np.abs(pred - real) / real_mod * 100\n",
    "        mean_loss = loss.mean()\n",
    "        return loss.tolist(), mean_loss\n",
    "    print(file_number)\n",
    "    df_merge['로스율(상대)_10칸'], df_merge['로스율(상대)_평균'] = zip(*df_merge.apply(relative_loss, axis=1))\n",
    "\n",
    "    # 4. 보기좋게 필요한 컬럼만 추출\n",
    "    result = df_merge[\n",
    "        on_cols + \n",
    "        ['congestionCar_예측','congestionCar_실제','로스율(상대)_10칸','로스율(상대)_평균']\n",
    "    ]\n",
    "\n",
    "    # 5. csv로 저장\n",
    "    result.to_csv('./loss/'+str(file_number)+'호선_loss_result.csv', index=False,encoding='euc-kr')\n"
   ]
  },
  {
   "cell_type": "code",
   "execution_count": 44,
   "id": "5e7f20b9",
   "metadata": {},
   "outputs": [],
   "source": [
    "import pandas as pd\n",
    "import matplotlib.pyplot as plt\n",
    "import ast\n",
    "\n",
    "# 1. CSV 불러오기 (또는 DataFrame 생성)\n",
    "# 예: df = pd.read_csv('your_file.csv')\n",
    "# 샘플 데이터가 이미 DataFrame이라면 바로 df 사용\n",
    "\n",
    "# '로스율(상대)_평균'이 float이 아니라면 변환 필요:\n",
    "# df['로스율(상대)_평균'] = df['로스율(상대)_평균'].astype(float)\n",
    "plt.rcParams['font.family'] = 'Malgun Gothic'  # '맑은 고딕' 폰트 지정\n",
    "plt.rcParams['axes.unicode_minus'] = False     # 마이너스 부호(-) 정상 출력\n",
    "\n",
    "\n",
    "for file_number in number_list:\n",
    "    df = pd.read_csv('./loss/'+str(file_number)+'호선_loss_result.csv',encoding='euc-kr')\n",
    "    # 2. 역별 평균 로스율 계산 (필요시 호선, 요일, 상하행 등 추가 그룹화 가능)\n",
    "    station_loss = df.groupby('역명')['로스율(상대)_평균'].mean().sort_values()\n",
    "\n",
    "    # 3. 바 차트 시각화\n",
    "    plt.figure(figsize=(10,6))\n",
    "    bars = plt.bar(station_loss.index, station_loss.values, color='skyblue')\n",
    "    plt.title('역별 평균 상대 로스율(%)')\n",
    "    plt.xlabel('역명')\n",
    "    plt.ylabel('평균 상대 로스율(%)')\n",
    "    plt.ylim(0, max(50, station_loss.max() + 5))\n",
    "\n",
    "    # 4. 바 위에 숫자 표시\n",
    "    for bar in bars:\n",
    "        plt.text(\n",
    "            bar.get_x() + bar.get_width() / 2, \n",
    "            bar.get_height(), \n",
    "            f'{bar.get_height():.1f}%', \n",
    "            ha='center', va='bottom'\n",
    "        )\n",
    "    plt.savefig('./loss/'+str(file_number)+'호선_loss_rate_chart.png', dpi=300)  # 🔸 이미지 저장\n",
    "    plt.close()  # 🔸 그래프 초기화 (메모리 해제)\n"
   ]
  },
  {
   "cell_type": "code",
   "execution_count": null,
   "id": "4eef7deb",
   "metadata": {},
   "outputs": [],
   "source": []
  }
 ],
 "metadata": {
  "kernelspec": {
   "display_name": "base",
   "language": "python",
   "name": "python3"
  },
  "language_info": {
   "codemirror_mode": {
    "name": "ipython",
    "version": 3
   },
   "file_extension": ".py",
   "mimetype": "text/x-python",
   "name": "python",
   "nbconvert_exporter": "python",
   "pygments_lexer": "ipython3",
   "version": "3.12.7"
  }
 },
 "nbformat": 4,
 "nbformat_minor": 5
}
