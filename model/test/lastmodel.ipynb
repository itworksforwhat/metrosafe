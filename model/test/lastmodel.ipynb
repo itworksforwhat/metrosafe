{
 "cells": [
  {
   "cell_type": "code",
   "execution_count": 8,
   "id": "79855314",
   "metadata": {},
   "outputs": [],
   "source": [
    "import pandas as pd\n",
    "import ast\n",
    "\n",
    "# CSV 파일 불러오기 (인코딩 euc-kr)\n",
    "csv_path = 'C:/Users/user/metrosafe-1/model/data/api_데이터/날짜합친1호선.csv'\n",
    "df = pd.read_csv(csv_path, encoding='euc-kr')\n",
    "\n",
    "# 칸별 혼잡도 리스트로 변환\n",
    "df['congestionCar'] = df['congestionCar'].apply(ast.literal_eval)\n",
    "\n",
    "# 최적 칸 인덱스(target) 생성\n",
    "def get_most_empty_car(cars):\n",
    "    return cars.index(min(cars))\n",
    "df['target'] = df['congestionCar'].apply(get_most_empty_car)\n"
   ]
  },
  {
   "cell_type": "code",
   "execution_count": 9,
   "id": "96c1aedf",
   "metadata": {},
   "outputs": [
    {
     "name": "stderr",
     "output_type": "stream",
     "text": [
      "C:\\Users\\user\\AppData\\Local\\Temp\\ipykernel_18788\\386177043.py:11: SettingWithCopyWarning: \n",
      "A value is trying to be set on a copy of a slice from a DataFrame.\n",
      "Try using .loc[row_indexer,col_indexer] = value instead\n",
      "\n",
      "See the caveats in the documentation: https://pandas.pydata.org/pandas-docs/stable/user_guide/indexing.html#returning-a-view-versus-a-copy\n",
      "  X[col] = le.fit_transform(X[col])\n",
      "C:\\Users\\user\\AppData\\Local\\Temp\\ipykernel_18788\\386177043.py:11: SettingWithCopyWarning: \n",
      "A value is trying to be set on a copy of a slice from a DataFrame.\n",
      "Try using .loc[row_indexer,col_indexer] = value instead\n",
      "\n",
      "See the caveats in the documentation: https://pandas.pydata.org/pandas-docs/stable/user_guide/indexing.html#returning-a-view-versus-a-copy\n",
      "  X[col] = le.fit_transform(X[col])\n",
      "C:\\Users\\user\\AppData\\Local\\Temp\\ipykernel_18788\\386177043.py:11: SettingWithCopyWarning: \n",
      "A value is trying to be set on a copy of a slice from a DataFrame.\n",
      "Try using .loc[row_indexer,col_indexer] = value instead\n",
      "\n",
      "See the caveats in the documentation: https://pandas.pydata.org/pandas-docs/stable/user_guide/indexing.html#returning-a-view-versus-a-copy\n",
      "  X[col] = le.fit_transform(X[col])\n",
      "C:\\Users\\user\\AppData\\Local\\Temp\\ipykernel_18788\\386177043.py:11: SettingWithCopyWarning: \n",
      "A value is trying to be set on a copy of a slice from a DataFrame.\n",
      "Try using .loc[row_indexer,col_indexer] = value instead\n",
      "\n",
      "See the caveats in the documentation: https://pandas.pydata.org/pandas-docs/stable/user_guide/indexing.html#returning-a-view-versus-a-copy\n",
      "  X[col] = le.fit_transform(X[col])\n"
     ]
    }
   ],
   "source": [
    "from sklearn.preprocessing import LabelEncoder\n",
    "\n",
    "# 입력 및 타겟 분리\n",
    "X = df[['호선', '역명', '요일', '시간', '상하행']]\n",
    "y = df['target']\n",
    "\n",
    "# 범주형 변수 인코딩\n",
    "encoders = {}\n",
    "for col in ['호선', '역명', '요일', '상하행']:\n",
    "    le = LabelEncoder()\n",
    "    X[col] = le.fit_transform(X[col])\n",
    "    encoders[col] = le  # 추후 새로운 데이터 전처리용\n"
   ]
  },
  {
   "cell_type": "code",
   "execution_count": 10,
   "id": "e4fcb522",
   "metadata": {},
   "outputs": [],
   "source": [
    "import torch\n",
    "import torch.nn as nn\n",
    "from torch.utils.data import Dataset, DataLoader\n",
    "\n",
    "# Dataset 정의\n",
    "class SubwayDataset(Dataset):\n",
    "    def __init__(self, X, y):\n",
    "        self.X = torch.tensor(X.values, dtype=torch.float32)\n",
    "        self.y = torch.tensor(y.values, dtype=torch.long)\n",
    "    def __len__(self):\n",
    "        return len(self.y)\n",
    "    def __getitem__(self, idx):\n",
    "        return self.X[idx], self.y[idx]\n",
    "\n",
    "dataset = SubwayDataset(X, y)\n",
    "loader = DataLoader(dataset, batch_size=32, shuffle=True)\n",
    "\n",
    "# MLP 모델 정의(클래스 수 10개 예시)\n",
    "class SubwayPredictor(nn.Module):\n",
    "    def __init__(self, input_dim, num_classes):\n",
    "        super().__init__()\n",
    "        self.layers = nn.Sequential(\n",
    "            nn.Linear(input_dim, 64),\n",
    "            nn.ReLU(),\n",
    "            nn.Linear(64, 32),\n",
    "            nn.ReLU(),\n",
    "            nn.Linear(32, num_classes)\n",
    "        )\n",
    "    def forward(self, x):\n",
    "        return self.layers(x)\n",
    "        \n",
    "model = SubwayPredictor(input_dim=X.shape[1], num_classes=10)\n",
    "criterion = nn.CrossEntropyLoss()\n",
    "optimizer = torch.optim.Adam(model.parameters(), lr=0.001)\n"
   ]
  },
  {
   "cell_type": "code",
   "execution_count": 11,
   "id": "c93b3e31",
   "metadata": {},
   "outputs": [
    {
     "name": "stdout",
     "output_type": "stream",
     "text": [
      "epoch 0 loss 1.43020\n",
      "epoch 1 loss 1.32238\n",
      "epoch 2 loss 1.30096\n",
      "epoch 3 loss 1.28531\n",
      "epoch 4 loss 1.27447\n",
      "epoch 5 loss 1.26365\n",
      "epoch 6 loss 1.25462\n",
      "epoch 7 loss 1.24725\n",
      "epoch 8 loss 1.24128\n",
      "epoch 9 loss 1.23604\n",
      "epoch 10 loss 1.23165\n",
      "epoch 11 loss 1.22831\n",
      "epoch 12 loss 1.22472\n",
      "epoch 13 loss 1.22126\n",
      "epoch 14 loss 1.21897\n",
      "epoch 15 loss 1.21584\n",
      "epoch 16 loss 1.21356\n",
      "epoch 17 loss 1.21106\n",
      "epoch 18 loss 1.20936\n",
      "epoch 19 loss 1.20655\n",
      "epoch 20 loss 1.20427\n",
      "epoch 21 loss 1.20254\n",
      "epoch 22 loss 1.20076\n",
      "epoch 23 loss 1.19853\n",
      "epoch 24 loss 1.19728\n",
      "epoch 25 loss 1.19536\n",
      "epoch 26 loss 1.19356\n",
      "epoch 27 loss 1.19186\n",
      "epoch 28 loss 1.19049\n",
      "epoch 29 loss 1.18954\n"
     ]
    }
   ],
   "source": [
    "train_loss_list = []\n",
    "\n",
    "for epoch in range(30):\n",
    "    running_loss = 0\n",
    "    for xb, yb in loader:\n",
    "        pred = model(xb)\n",
    "        loss = criterion(pred, yb)\n",
    "        optimizer.zero_grad()\n",
    "        loss.backward()\n",
    "        optimizer.step()\n",
    "        running_loss += loss.item()\n",
    "    epoch_loss = running_loss / len(loader)\n",
    "    train_loss_list.append(epoch_loss)\n",
    "    print(f\"epoch {epoch} loss {epoch_loss:.5f}\")\n"
   ]
  },
  {
   "cell_type": "code",
   "execution_count": 12,
   "id": "fe5df8af",
   "metadata": {},
   "outputs": [
    {
     "data": {
      "image/png": "[encoded data removed]",
      "text/plain": [
       "<Figure size 640x480 with 1 Axes>"
      ]
     },
     "metadata": {},
     "output_type": "display_data"
    }
   ],
   "source": [
    "import matplotlib.pyplot as plt\n",
    "\n",
    "# 한글 폰트 설정 (윈도우: Malgun Gothic)\n",
    "plt.rcParams['font.family'] = 'Malgun Gothic'\n",
    "plt.rcParams['axes.unicode_minus'] = False  # 마이너스 깨짐 방지\n",
    "\n",
    "plt.plot(train_loss_list, label='학습 손실')\n",
    "plt.xlabel('에폭(epoch)')\n",
    "plt.ylabel('손실(loss)')\n",
    "plt.title('학습 손실 곡선')\n",
    "plt.legend()\n",
    "plt.show()\n"
   ]
  },
  {
   "cell_type": "code",
   "execution_count": 13,
   "id": "365483c2",
   "metadata": {},
   "outputs": [
    {
     "name": "stdout",
     "output_type": "stream",
     "text": [
      "전체 데이터 정확도: 0.5164\n"
     ]
    }
   ],
   "source": [
    "from sklearn.metrics import accuracy_score\n",
    "\n",
    "model.eval()\n",
    "with torch.no_grad():\n",
    "    X_tensor = torch.tensor(X.values, dtype=torch.float32)\n",
    "    y_pred = model(X_tensor)\n",
    "    pred_labels = torch.argmax(y_pred, dim=1).numpy()\n",
    "    acc = accuracy_score(y, pred_labels)\n",
    "    print(f'전체 데이터 정확도: {acc:.4f}')\n"
   ]
  },
  {
   "cell_type": "code",
   "execution_count": 14,
   "id": "b8735467",
   "metadata": {},
   "outputs": [
    {
     "name": "stdout",
     "output_type": "stream",
     "text": [
      "모델이 subway_predictorline1.pt에 저장되었습니다.\n"
     ]
    }
   ],
   "source": [
    "# 모델 파라미터 저장\n",
    "save_path = 'subway_predictorline1.pt'\n",
    "torch.save(model.state_dict(), save_path)\n",
    "print(f'모델이 {save_path}에 저장되었습니다.')\n"
   ]
  },
  {
   "cell_type": "code",
   "execution_count": 17,
   "id": "a75a57c9",
   "metadata": {},
   "outputs": [],
   "source": [
    "import pickle\n",
    "\n",
    "# encoders: {'호선': LabelEncoder 객체, ...}\n",
    "with open('label_encodersline1.pkl', 'wb') as f:\n",
    "    pickle.dump(encoders, f)\n"
   ]
  },
  {
   "cell_type": "code",
   "execution_count": 18,
   "id": "e8c75263",
   "metadata": {},
   "outputs": [],
   "source": [
    "import pickle\n",
    "\n",
    "with open('label_encodersline1.pkl', 'rb') as f:\n",
    "    encoders = pickle.load(f)\n"
   ]
  }
 ],
 "metadata": {
  "kernelspec": {
   "display_name": "base",
   "language": "python",
   "name": "python3"
  },
  "language_info": {
   "codemirror_mode": {
    "name": "ipython",
    "version": 3
   },
   "file_extension": ".py",
   "mimetype": "text/x-python",
   "name": "python",
   "nbconvert_exporter": "python",
   "pygments_lexer": "ipython3",
   "version": "3.10.18"
  }
 },
 "nbformat": 4,
 "nbformat_minor": 5
}
