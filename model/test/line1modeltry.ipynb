{
 "cells": [
  {
   "cell_type": "code",
   "execution_count": 1,
   "id": "da627df2",
   "metadata": {},
   "outputs": [],
   "source": [
    "import torch\n",
    "import torch.nn as nn\n",
    "import pandas as pd\n",
    "import pickle\n"
   ]
  },
  {
   "cell_type": "code",
   "execution_count": 2,
   "id": "44057ef1",
   "metadata": {},
   "outputs": [],
   "source": [
    "enc_path = r'C:\\Users\\user\\metrosafe-1\\model\\test\\label_encodersline1.pkl'\n",
    "with open(enc_path, 'rb') as f:\n",
    "    encoders = pickle.load(f)\n",
    "\n",
    "# encoders 예시: {'호선': LabelEncoder, '역명': LabelEncoder, ...}\n"
   ]
  },
  {
   "cell_type": "code",
   "execution_count": 3,
   "id": "0d83d9a2",
   "metadata": {},
   "outputs": [
    {
     "data": {
      "text/plain": [
       "SubwayPredictor(\n",
       "  (layers): Sequential(\n",
       "    (0): Linear(in_features=5, out_features=64, bias=True)\n",
       "    (1): ReLU()\n",
       "    (2): Linear(in_features=64, out_features=32, bias=True)\n",
       "    (3): ReLU()\n",
       "    (4): Linear(in_features=32, out_features=10, bias=True)\n",
       "  )\n",
       ")"
      ]
     },
     "execution_count": 3,
     "metadata": {},
     "output_type": "execute_result"
    }
   ],
   "source": [
    "class SubwayPredictor(nn.Module):\n",
    "    def __init__(self, input_dim, num_classes):\n",
    "        super().__init__()\n",
    "        self.layers = nn.Sequential(\n",
    "            nn.Linear(input_dim, 64),\n",
    "            nn.ReLU(),\n",
    "            nn.Linear(64, 32),\n",
    "            nn.ReLU(),\n",
    "            nn.Linear(32, num_classes)\n",
    "        )\n",
    "    def forward(self, x):\n",
    "        return self.layers(x)\n",
    "\n",
    "# 입력 변수 개수 및 클래스 수(=칸 수) 맞춤\n",
    "input_dim = 5         # ['호선','역명','요일','시간','상하행']\n",
    "num_classes = 10      # 칸 수에 맞게 (10으로 예시)\n",
    "\n",
    "model_path = r'C:\\Users\\user\\metrosafe-1\\model\\test\\subway_predictorline1.pt'\n",
    "\n",
    "model = SubwayPredictor(input_dim, num_classes)\n",
    "model.load_state_dict(torch.load(model_path, map_location='cpu'))\n",
    "model.eval()\n"
   ]
  },
  {
   "cell_type": "code",
   "execution_count": 10,
   "id": "f22320c0",
   "metadata": {},
   "outputs": [
    {
     "name": "stdout",
     "output_type": "stream",
     "text": [
      "컬럼명: 호선\n",
      "['1호선']\n",
      "========================================\n",
      "컬럼명: 역명\n",
      "['동대문역' '동묘앞역' '서울역' '시청역' '신설동역' '제기동역' '종각역' '종로3가역' '종로5가역' '청량리역']\n",
      "========================================\n",
      "컬럼명: 요일\n",
      "['MON' 'SAT']\n",
      "========================================\n",
      "컬럼명: 상하행\n",
      "[0 1]\n",
      "========================================\n"
     ]
    }
   ],
   "source": [
    "# 저장된 encoders 딕셔너리에서 각 컬럼별 classes_ 출력\n",
    "for col in ['호선', '역명', '요일', '상하행']:\n",
    "    print(f\"컬럼명: {col}\")\n",
    "    print(encoders[col].classes_)\n",
    "    print(\"=\"*40)\n"
   ]
  },
  {
   "cell_type": "code",
   "execution_count": 12,
   "id": "1dfdcbfe",
   "metadata": {},
   "outputs": [],
   "source": [
    "sample = pd.DataFrame({\n",
    "    '호선':    ['1호선'],          # 그대로 사용\n",
    "    '역명':    ['서울역'],         # 그대로 사용\n",
    "    '요일':    ['MON'],           # 반드시 'MON' 또는 'SAT'만! (한글 '평일', '주말' X)\n",
    "    '시간':    [9],               # 그냥 숫자\n",
    "    '상하행':  [0]                # 숫자 0(상행), 1(하행)\n",
    "})\n"
   ]
  },
  {
   "cell_type": "code",
   "execution_count": 13,
   "id": "d784b896",
   "metadata": {},
   "outputs": [],
   "source": [
    "# 요일 한글→영문 변환 필요시 먼저 수행\n",
    "요일_map = {'평일': 'MON', '주말': 'SAT'}\n",
    "if sample['요일'].iloc[0] in 요일_map:\n",
    "    sample['요일'] = sample['요일'].map(요일_map)\n",
    "\n",
    "# 상하행이 한글로 들어오는 경우 숫자로 변환 필요\n",
    "상하행_map = {'상행': 0, '하행': 1}\n",
    "if str(sample['상하행'].iloc[0]) in 상하행_map:\n",
    "    sample['상하행'] = sample['상하행'].map(상하행_map)\n",
    "\n",
    "# 나머지 컬럼(호선, 역명, 요일)은 LabelEncoder로 transform\n",
    "for col in ['호선', '역명', '요일']:\n",
    "    sample[col] = encoders[col].transform(sample[col])\n",
    "\n",
    "# 이제 tensor 변환\n",
    "X_input = torch.tensor(sample.values, dtype=torch.float32)\n"
   ]
  },
  {
   "cell_type": "code",
   "execution_count": 14,
   "id": "22971c39",
   "metadata": {},
   "outputs": [
    {
     "name": "stdout",
     "output_type": "stream",
     "text": [
      "예측된 가장 한적한 칸 인덱스: [0]\n"
     ]
    }
   ],
   "source": [
    "with torch.no_grad():\n",
    "    logits = model(X_input)         # (배치, 클래스수) shape\n",
    "    pred = torch.argmax(logits, dim=1).numpy()\n",
    "    print(\"예측된 가장 한적한 칸 인덱스:\", pred)     # 예: [3]\n"
   ]
  }
 ],
 "metadata": {
  "kernelspec": {
   "display_name": "base",
   "language": "python",
   "name": "python3"
  },
  "language_info": {
   "codemirror_mode": {
    "name": "ipython",
    "version": 3
   },
   "file_extension": ".py",
   "mimetype": "text/x-python",
   "name": "python",
   "nbconvert_exporter": "python",
   "pygments_lexer": "ipython3",
   "version": "3.10.18"
  }
 },
 "nbformat": 4,
 "nbformat_minor": 5
}
